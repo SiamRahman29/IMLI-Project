{
 "cells": [
  {
   "cell_type": "code",
   "execution_count": 1,
   "id": "31464316",
   "metadata": {},
   "outputs": [
    {
     "data": {
      "text/plain": [
       "True"
      ]
     },
     "execution_count": 1,
     "metadata": {},
     "output_type": "execute_result"
    }
   ],
   "source": [
    "import os\n",
    "import requests\n",
    "from dotenv import load_dotenv\n",
    "\n",
    "load_dotenv()"
   ]
  },
  {
   "cell_type": "code",
   "execution_count": 2,
   "id": "6d1138a1",
   "metadata": {},
   "outputs": [],
   "source": [
    "news_api_url = os.getenv(\"NEWS_API_URL\")"
   ]
  },
  {
   "cell_type": "code",
   "execution_count": 3,
   "id": "f958fae0",
   "metadata": {},
   "outputs": [
    {
     "name": "stdout",
     "output_type": "stream",
     "text": [
      "Response received successfully.\n"
     ]
    }
   ],
   "source": [
    "response = requests.get(news_api_url)\n",
    "if response.status_code == 200:\n",
    "    print(\"Response received successfully.\")\n",
    "else:\n",
    "    print(f\"Failed to fetch news: {response.status_code}\")"
   ]
  },
  {
   "cell_type": "code",
   "execution_count": 4,
   "id": "a7b869eb",
   "metadata": {},
   "outputs": [],
   "source": [
    "data = response.json()\n",
    "articles = data.get(\"results\", [])"
   ]
  },
  {
   "cell_type": "code",
   "execution_count": 5,
   "id": "1e2328ef",
   "metadata": {},
   "outputs": [],
   "source": [
    "news_dict = {}\n",
    "for article in articles:\n",
    "    title = article.get(\"title\", \"No Title\")\n",
    "    description = article.get(\"description\", \"No Description\")\n",
    "    news_dict[title] = description"
   ]
  },
  {
   "cell_type": "code",
   "execution_count": 6,
   "id": "d8eb9c82",
   "metadata": {},
   "outputs": [],
   "source": [
    "combined_text = \"\\n\".join([f\"{title}. {desc}\" for title, desc in news_dict.items()])"
   ]
  },
  {
   "cell_type": "code",
   "execution_count": 7,
   "id": "f5403ceb",
   "metadata": {},
   "outputs": [],
   "source": [
    "from groq import Groq\n",
    "\n",
    "client = Groq(\n",
    "    api_key=os.environ.get(\"GROQ_API_KEY\"),\n",
    ")"
   ]
  },
  {
   "cell_type": "code",
   "execution_count": 11,
   "id": "61c237b1",
   "metadata": {},
   "outputs": [
    {
     "name": "stdout",
     "output_type": "stream",
     "text": [
      "সরকার \n",
      "আওয়ামী লীগ \n",
      "পার্টি \n",
      "দেশ \n",
      "সরকার \n",
      "পাকিস্তান \n",
      "ভারত \n",
      "বাংলাদেশ \n",
      "ছাত্রশিবির \n",
      "আন্দোলন \n",
      "\n",
      "সরকার \n",
      "সংলাপ \n",
      "বিপ্লব \n",
      "সংকট \n",
      "উত্তেজনা \n",
      "যুদ্ধ \n",
      "বিমান \n",
      "বন্দর \n",
      "পররাষ্ট্রমন্ত্রী\n"
     ]
    }
   ],
   "source": [
    "prompt = (\n",
    "    \"নিচের বাংলা লেখাটিতে সবচেয়ে বেশি ব্যবহৃত ১০টি 'বিশেষ্য' (noun) খুঁজে বের করো। \"\n",
    "    \"এই শব্দগুলোর তালিকা শুধু বাংলা শব্দ হিসাবে ফেরত দাও, অন্য কিছু লিখো না।\\n\\n\"\n",
    "    f\"{combined_text}\\n\\n\"\n",
    "    \"এরপর, এই লেখার ভিত্তিতে এমন ৫টি শব্দের নাম দাও যেগুলো 'আজকের শব্দ' হিসেবে নির্বাচিত হতে পারে — \"\n",
    "    \"অর্থাৎ যেগুলো প্রসঙ্গ অনুযায়ী গুরুত্বপূর্ণ, তাৎপর্যপূর্ণ, বা আলোচ্য। এই শব্দগুলোকেও শুধু বাংলা শব্দ হিসেবে তালিকাভুক্ত করো।\"\n",
    "    \"এই শব্দগুলোর তালিকা শুধু বাংলা শব্দ হিসাবে ফেরত দাও, অন্য কিছু লিখো না\"\n",
    "   \n",
    ")\n",
    "\n",
    "chat_completion = client.chat.completions.create(\n",
    "    messages=[\n",
    "        {\"role\": \"user\", \"content\": prompt}\n",
    "    ],\n",
    "    model=\"llama-3.3-70b-versatile\",\n",
    "    stream=False,\n",
    ")\n",
    "\n",
    "# Output the response\n",
    "print(chat_completion.choices[0].message.content)"
   ]
  },
  {
   "cell_type": "code",
   "execution_count": null,
   "id": "211ab1d6",
   "metadata": {},
   "outputs": [],
   "source": []
  }
 ],
 "metadata": {
  "kernelspec": {
   "display_name": ".venv",
   "language": "python",
   "name": "python3"
  },
  "language_info": {
   "codemirror_mode": {
    "name": "ipython",
    "version": 3
   },
   "file_extension": ".py",
   "mimetype": "text/x-python",
   "name": "python",
   "nbconvert_exporter": "python",
   "pygments_lexer": "ipython3",
   "version": "3.12.6"
  }
 },
 "nbformat": 4,
 "nbformat_minor": 5
}
